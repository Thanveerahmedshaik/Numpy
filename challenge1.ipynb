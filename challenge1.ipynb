{
  "nbformat": 4,
  "nbformat_minor": 0,
  "metadata": {
    "colab": {
      "provenance": [],
      "authorship_tag": "ABX9TyNmNekOYeaAQY/aF/IrNiOI",
      "include_colab_link": true
    },
    "kernelspec": {
      "name": "python3",
      "display_name": "Python 3"
    },
    "language_info": {
      "name": "python"
    }
  },
  "cells": [
    {
      "cell_type": "markdown",
      "metadata": {
        "id": "view-in-github",
        "colab_type": "text"
      },
      "source": [
        "<a href=\"https://colab.research.google.com/github/Thanveerahmedshaik/Numpy/blob/main/challenge1.ipynb\" target=\"_parent\"><img src=\"https://colab.research.google.com/assets/colab-badge.svg\" alt=\"Open In Colab\"/></a>"
      ]
    },
    {
      "cell_type": "markdown",
      "source": [
        "**With your highschool reunion fast approching , you decide to get in shape and lose some weight . You record your weight every day for 5 weeks starting from a Monday . Given these daily weights , build an array with your average weight per weekend.**"
      ],
      "metadata": {
        "id": "1SxhU9cjTb2Z"
      }
    },
    {
      "cell_type": "code",
      "execution_count": 2,
      "metadata": {
        "id": "lZklEAImS-FQ"
      },
      "outputs": [],
      "source": [
        "import numpy as np"
      ]
    },
    {
      "cell_type": "code",
      "source": [
        "daily_weights = 185 - np.arange(5*7)/5\n",
        "print(daily_weights)"
      ],
      "metadata": {
        "colab": {
          "base_uri": "https://localhost:8080/"
        },
        "id": "iwbwViwpTDGv",
        "outputId": "4c18b8ce-1f42-44fc-e4c4-5fa3e39fde6f"
      },
      "execution_count": 3,
      "outputs": [
        {
          "output_type": "stream",
          "name": "stdout",
          "text": [
            "[185.  184.8 184.6 184.4 184.2 184.  183.8 183.6 183.4 183.2 183.  182.8\n",
            " 182.6 182.4 182.2 182.  181.8 181.6 181.4 181.2 181.  180.8 180.6 180.4\n",
            " 180.2 180.  179.8 179.6 179.4 179.2 179.  178.8 178.6 178.4 178.2]\n"
          ]
        }
      ]
    },
    {
      "cell_type": "code",
      "source": [
        "daily_weights = daily_weights.reshape(5,7)\n",
        "daily_weights"
      ],
      "metadata": {
        "colab": {
          "base_uri": "https://localhost:8080/"
        },
        "id": "Z70NiF4rUJ9i",
        "outputId": "d41037bc-5afb-4f8d-8743-a7eb9b046721"
      },
      "execution_count": 4,
      "outputs": [
        {
          "output_type": "execute_result",
          "data": {
            "text/plain": [
              "array([[185. , 184.8, 184.6, 184.4, 184.2, 184. , 183.8],\n",
              "       [183.6, 183.4, 183.2, 183. , 182.8, 182.6, 182.4],\n",
              "       [182.2, 182. , 181.8, 181.6, 181.4, 181.2, 181. ],\n",
              "       [180.8, 180.6, 180.4, 180.2, 180. , 179.8, 179.6],\n",
              "       [179.4, 179.2, 179. , 178.8, 178.6, 178.4, 178.2]])"
            ]
          },
          "metadata": {},
          "execution_count": 4
        }
      ]
    },
    {
      "cell_type": "code",
      "source": [
        "weekend_weights = daily_weights[:,[-1,-2]]"
      ],
      "metadata": {
        "id": "EwJS5KXsU1dE"
      },
      "execution_count": 11,
      "outputs": []
    },
    {
      "cell_type": "code",
      "source": [
        "average_weekend_weights = np.mean(weekend_weights,axis =1 )"
      ],
      "metadata": {
        "id": "VHsIszIGU8ey"
      },
      "execution_count": 13,
      "outputs": []
    },
    {
      "cell_type": "code",
      "source": [
        "print(\"\\nAverage weekend weight for each week:\")\n",
        "print(average_weekend_weights)"
      ],
      "metadata": {
        "colab": {
          "base_uri": "https://localhost:8080/"
        },
        "id": "o7NW--F7VfDG",
        "outputId": "63afa9b1-4b42-4780-d12c-f14a71662a6b"
      },
      "execution_count": 14,
      "outputs": [
        {
          "output_type": "stream",
          "name": "stdout",
          "text": [
            "\n",
            "Average weekend weight for each week:\n",
            "[183.9 182.5 181.1 179.7 178.3]\n"
          ]
        }
      ]
    },
    {
      "cell_type": "code",
      "source": [],
      "metadata": {
        "id": "u0U2V8RlVowW"
      },
      "execution_count": null,
      "outputs": []
    }
  ]
}