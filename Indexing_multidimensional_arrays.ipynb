{
  "nbformat": 4,
  "nbformat_minor": 0,
  "metadata": {
    "colab": {
      "provenance": []
    },
    "kernelspec": {
      "name": "python3",
      "display_name": "Python 3"
    },
    "language_info": {
      "name": "python"
    }
  },
  "cells": [
    {
      "cell_type": "code",
      "execution_count": 1,
      "metadata": {
        "id": "Rq-PA3l3KgGF"
      },
      "outputs": [],
      "source": [
        "import numpy as np"
      ]
    },
    {
      "cell_type": "code",
      "source": [
        "bar = np.array([[5,10,15,20],\n",
        "               [25,30,35,40],\n",
        "               [45,50,55,60]])"
      ],
      "metadata": {
        "id": "yJUlHZP2KuhI"
      },
      "execution_count": 3,
      "outputs": []
    },
    {
      "cell_type": "code",
      "source": [
        "bar"
      ],
      "metadata": {
        "colab": {
          "base_uri": "https://localhost:8080/"
        },
        "id": "qzY-bDGRLA04",
        "outputId": "90d34295-02b2-42b3-f9c6-57a1499ede97"
      },
      "execution_count": 4,
      "outputs": [
        {
          "output_type": "execute_result",
          "data": {
            "text/plain": [
              "array([[ 5, 10, 15, 20],\n",
              "       [25, 30, 35, 40],\n",
              "       [45, 50, 55, 60]])"
            ]
          },
          "metadata": {},
          "execution_count": 4
        }
      ]
    },
    {
      "cell_type": "code",
      "source": [
        "print(bar)"
      ],
      "metadata": {
        "colab": {
          "base_uri": "https://localhost:8080/"
        },
        "id": "wRnWJtKXLH3G",
        "outputId": "8c73e3dd-61a2-45aa-ecbd-bdb9867d809d"
      },
      "execution_count": 5,
      "outputs": [
        {
          "output_type": "stream",
          "name": "stdout",
          "text": [
            "[[ 5 10 15 20]\n",
            " [25 30 35 40]\n",
            " [45 50 55 60]]\n"
          ]
        }
      ]
    },
    {
      "cell_type": "code",
      "source": [
        " bar[1,2]"
      ],
      "metadata": {
        "colab": {
          "base_uri": "https://localhost:8080/"
        },
        "id": "BLXEIwqPLJ85",
        "outputId": "5d851711-e303-41e2-acfd-b265b88d5b84"
      },
      "execution_count": 40,
      "outputs": [
        {
          "output_type": "execute_result",
          "data": {
            "text/plain": [
              "np.int64(1)"
            ]
          },
          "metadata": {},
          "execution_count": 40
        }
      ]
    },
    {
      "cell_type": "code",
      "source": [
        "bar[0]"
      ],
      "metadata": {
        "colab": {
          "base_uri": "https://localhost:8080/"
        },
        "id": "LQpwLkkhLX0x",
        "outputId": "6e44f1ba-8f27-4831-d66a-98e287d930e5"
      },
      "execution_count": 41,
      "outputs": [
        {
          "output_type": "execute_result",
          "data": {
            "text/plain": [
              "array([ 0, 10, 15,  1])"
            ]
          },
          "metadata": {},
          "execution_count": 41
        }
      ]
    },
    {
      "cell_type": "code",
      "source": [
        "bar[0,None]"
      ],
      "metadata": {
        "colab": {
          "base_uri": "https://localhost:8080/"
        },
        "id": "pkdpJGz_LaT1",
        "outputId": "45587b8f-20f9-4689-81fa-d82bb91bfcbb"
      },
      "execution_count": 8,
      "outputs": [
        {
          "output_type": "execute_result",
          "data": {
            "text/plain": [
              "array([[ 5, 10, 15, 20]])"
            ]
          },
          "metadata": {},
          "execution_count": 8
        }
      ]
    },
    {
      "cell_type": "code",
      "source": [
        "bar[:1]"
      ],
      "metadata": {
        "colab": {
          "base_uri": "https://localhost:8080/"
        },
        "id": "Rps1K5KaLlGp",
        "outputId": "2d71521b-a001-4bec-e4f7-ccc99a8e9d05"
      },
      "execution_count": 9,
      "outputs": [
        {
          "output_type": "execute_result",
          "data": {
            "text/plain": [
              "array([[ 5, 10, 15, 20]])"
            ]
          },
          "metadata": {},
          "execution_count": 9
        }
      ]
    },
    {
      "cell_type": "code",
      "source": [
        "bar[1:3,[-2,-1]]"
      ],
      "metadata": {
        "colab": {
          "base_uri": "https://localhost:8080/"
        },
        "id": "oEnsMJAWLySP",
        "outputId": "98186e76-85b5-40dd-e32e-418ebefca763"
      },
      "execution_count": 10,
      "outputs": [
        {
          "output_type": "execute_result",
          "data": {
            "text/plain": [
              "array([[35, 40],\n",
              "       [55, 60]])"
            ]
          },
          "metadata": {},
          "execution_count": 10
        }
      ]
    },
    {
      "cell_type": "code",
      "source": [
        "bar[1:3,[-1,-2]]"
      ],
      "metadata": {
        "colab": {
          "base_uri": "https://localhost:8080/"
        },
        "id": "eGmRkSKRMBmz",
        "outputId": "bd30db15-a8d1-4f90-cc86-1a8de4b66e26"
      },
      "execution_count": 12,
      "outputs": [
        {
          "output_type": "execute_result",
          "data": {
            "text/plain": [
              "array([[40, 35, 25],\n",
              "       [60, 55, 45]])"
            ]
          },
          "metadata": {},
          "execution_count": 12
        }
      ]
    },
    {
      "cell_type": "code",
      "source": [
        "bar[0,0] = -1"
      ],
      "metadata": {
        "id": "BUZikHGoMLnv"
      },
      "execution_count": 13,
      "outputs": []
    },
    {
      "cell_type": "code",
      "source": [
        "print(bar)"
      ],
      "metadata": {
        "colab": {
          "base_uri": "https://localhost:8080/"
        },
        "id": "urP00RxJMciy",
        "outputId": "8235efaa-c146-47c9-b912-6c10d1f63113"
      },
      "execution_count": 14,
      "outputs": [
        {
          "output_type": "stream",
          "name": "stdout",
          "text": [
            "[[-1 10 15 20]\n",
            " [25 30 35 40]\n",
            " [45 50 55 60]]\n"
          ]
        }
      ]
    },
    {
      "cell_type": "code",
      "source": [
        "#replacing rows\n",
        "\n",
        "bar[1]=bar[2]\n",
        "print(bar)"
      ],
      "metadata": {
        "colab": {
          "base_uri": "https://localhost:8080/"
        },
        "id": "X0uIuvQSMebI",
        "outputId": "7dc2837a-8ffb-46db-823b-859b38f68ca7"
      },
      "execution_count": 15,
      "outputs": [
        {
          "output_type": "stream",
          "name": "stdout",
          "text": [
            "[[-1 10 15 20]\n",
            " [45 50 55 60]\n",
            " [45 50 55 60]]\n"
          ]
        }
      ]
    },
    {
      "cell_type": "code",
      "source": [
        "bar[[0,1,2],[0,1,2]]  = [0,0,0] #[[0,1,2],[0,1,2]] first row first element second row second element and so on\n",
        "\n",
        "print(bar)"
      ],
      "metadata": {
        "colab": {
          "base_uri": "https://localhost:8080/"
        },
        "id": "72TU_Gw9MuND",
        "outputId": "61f0cd41-7b86-4b56-c6b5-c2afdb0a678d"
      },
      "execution_count": 16,
      "outputs": [
        {
          "output_type": "stream",
          "name": "stdout",
          "text": [
            "[[ 0 10 15 20]\n",
            " [45  0 55 60]\n",
            " [45 50  0 60]]\n"
          ]
        }
      ]
    },
    {
      "cell_type": "code",
      "source": [
        "print(bar[[2],[1]])"
      ],
      "metadata": {
        "colab": {
          "base_uri": "https://localhost:8080/"
        },
        "id": "9ngkqmZLNU6y",
        "outputId": "bd509a29-2c7b-45ad-d376-990a639031b3"
      },
      "execution_count": 30,
      "outputs": [
        {
          "output_type": "stream",
          "name": "stdout",
          "text": [
            "[50]\n"
          ]
        }
      ]
    },
    {
      "cell_type": "code",
      "source": [
        "bar"
      ],
      "metadata": {
        "colab": {
          "base_uri": "https://localhost:8080/"
        },
        "id": "UG9KPHgFNe0T",
        "outputId": "e8a7eb3f-40a2-4769-ab4e-50759f4a11fc"
      },
      "execution_count": 31,
      "outputs": [
        {
          "output_type": "execute_result",
          "data": {
            "text/plain": [
              "array([[ 0, 10, 15, 20],\n",
              "       [45,  0, 55, 60],\n",
              "       [45, 50,  0, 60]])"
            ]
          },
          "metadata": {},
          "execution_count": 31
        }
      ]
    },
    {
      "cell_type": "code",
      "source": [
        "bar[[0,1,2],[-1,-2,-3]] = [1,1,1]"
      ],
      "metadata": {
        "id": "dMPfUUDiOBWn"
      },
      "execution_count": 32,
      "outputs": []
    },
    {
      "cell_type": "code",
      "source": [
        "bar"
      ],
      "metadata": {
        "colab": {
          "base_uri": "https://localhost:8080/"
        },
        "id": "GrR_IbFSOSK-",
        "outputId": "066b1a0d-049f-439f-b6aa-ae1cd3592ae2"
      },
      "execution_count": 33,
      "outputs": [
        {
          "output_type": "execute_result",
          "data": {
            "text/plain": [
              "array([[ 0, 10, 15,  1],\n",
              "       [45,  0,  1, 60],\n",
              "       [45,  1,  0, 60]])"
            ]
          },
          "metadata": {},
          "execution_count": 33
        }
      ]
    },
    {
      "cell_type": "code",
      "source": [
        "zoo = np.array([\n",
        "    [\n",
        "        [10,20],\n",
        "        [20,30],\n",
        "        [30,40]\n",
        "    ],\n",
        "    [\n",
        "        [11,12],\n",
        "        [13,14],\n",
        "        [15,16]\n",
        "    ]\n",
        "]\n",
        "\n",
        ")"
      ],
      "metadata": {
        "id": "VRjxlKghOTVD"
      },
      "execution_count": 34,
      "outputs": []
    },
    {
      "cell_type": "code",
      "source": [
        "print(zoo)"
      ],
      "metadata": {
        "colab": {
          "base_uri": "https://localhost:8080/"
        },
        "id": "GUQtbv1sPIsj",
        "outputId": "40a12c64-59b7-43cb-ce72-cffc21598584"
      },
      "execution_count": 35,
      "outputs": [
        {
          "output_type": "stream",
          "name": "stdout",
          "text": [
            "[[[10 20]\n",
            "  [20 30]\n",
            "  [30 40]]\n",
            "\n",
            " [[11 12]\n",
            "  [13 14]\n",
            "  [15 16]]]\n"
          ]
        }
      ]
    },
    {
      "cell_type": "code",
      "source": [
        "zoo.ndim"
      ],
      "metadata": {
        "colab": {
          "base_uri": "https://localhost:8080/"
        },
        "id": "QO6nCRdjPKbZ",
        "outputId": "15b4cb30-ff82-4b72-fba2-b1d421301131"
      },
      "execution_count": 37,
      "outputs": [
        {
          "output_type": "execute_result",
          "data": {
            "text/plain": [
              "3"
            ]
          },
          "metadata": {},
          "execution_count": 37
        }
      ]
    },
    {
      "cell_type": "code",
      "source": [
        "#set first matrix of every row to of second column to 5\n",
        "\n",
        "zoo[0,:,1] = 5\n",
        "print(zoo)"
      ],
      "metadata": {
        "colab": {
          "base_uri": "https://localhost:8080/"
        },
        "id": "N2c7r4J0POcg",
        "outputId": "83932c65-1f79-43a2-c2cf-8d6168fd9940"
      },
      "execution_count": 39,
      "outputs": [
        {
          "output_type": "stream",
          "name": "stdout",
          "text": [
            "[[[10  5]\n",
            "  [20  5]\n",
            "  [30  5]]\n",
            "\n",
            " [[11 12]\n",
            "  [13 14]\n",
            "  [15 16]]]\n"
          ]
        }
      ]
    },
    {
      "cell_type": "code",
      "source": [],
      "metadata": {
        "id": "cEIHrhY7P5S2"
      },
      "execution_count": null,
      "outputs": []
    }
  ]
}