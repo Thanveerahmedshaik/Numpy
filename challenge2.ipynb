{
  "nbformat": 4,
  "nbformat_minor": 0,
  "metadata": {
    "colab": {
      "provenance": [],
      "authorship_tag": "ABX9TyNxXvumiHKjr3xYja1VpzSQ",
      "include_colab_link": true
    },
    "kernelspec": {
      "name": "python3",
      "display_name": "Python 3"
    },
    "language_info": {
      "name": "python"
    }
  },
  "cells": [
    {
      "cell_type": "markdown",
      "metadata": {
        "id": "view-in-github",
        "colab_type": "text"
      },
      "source": [
        "<a href=\"https://colab.research.google.com/github/Thanveerahmedshaik/Numpy/blob/main/challenge2.ipynb\" target=\"_parent\"><img src=\"https://colab.research.google.com/assets/colab-badge.svg\" alt=\"Open In Colab\"/></a>"
      ]
    },
    {
      "cell_type": "markdown",
      "source": [
        "**After binge watching the discovery channel , you ditch your job as a trial lawyer to become a gold miner . You decide to prospect five locations underneath the 7*7 grid of land . How much gold do you uncover at each location?**"
      ],
      "metadata": {
        "id": "FAlVyGqtWavx"
      }
    },
    {
      "cell_type": "code",
      "execution_count": 1,
      "metadata": {
        "id": "n9P5rZfMWaPb"
      },
      "outputs": [],
      "source": [
        "import numpy as np"
      ]
    },
    {
      "cell_type": "code",
      "source": [
        "np.random.seed(5555)\n",
        "gold = np.random.randint(low= 1,high =10,size =(7,7))\n",
        "print(gold)"
      ],
      "metadata": {
        "colab": {
          "base_uri": "https://localhost:8080/"
        },
        "id": "8JdIRruKXJkn",
        "outputId": "dfc5e8ac-42c5-4241-bfe9-86992227ff9e"
      },
      "execution_count": 8,
      "outputs": [
        {
          "output_type": "stream",
          "name": "stdout",
          "text": [
            "[[3 4 1 6 3 1 4]\n",
            " [9 9 1 8 2 6 4]\n",
            " [1 2 7 3 2 5 6]\n",
            " [5 1 9 9 8 5 3]\n",
            " [8 1 8 3 2 9 3]\n",
            " [6 1 9 2 9 3 7]\n",
            " [5 4 3 1 8 9 1]]\n"
          ]
        }
      ]
    },
    {
      "cell_type": "code",
      "source": [
        "locs = np.array([\n",
        "    [0,4],\n",
        "    [2,2],\n",
        "    [2,3],\n",
        "    [5,1],\n",
        "    [6,3]\n",
        "])"
      ],
      "metadata": {
        "id": "SWCUjdGtXX7R"
      },
      "execution_count": 9,
      "outputs": []
    },
    {
      "cell_type": "code",
      "source": [
        "print(locs)"
      ],
      "metadata": {
        "colab": {
          "base_uri": "https://localhost:8080/"
        },
        "id": "zbhnREANXqG_",
        "outputId": "fd3e9d47-7046-4992-f0e3-9bf8bebf72dc"
      },
      "execution_count": 10,
      "outputs": [
        {
          "output_type": "stream",
          "name": "stdout",
          "text": [
            "[[0 4]\n",
            " [2 2]\n",
            " [2 3]\n",
            " [5 1]\n",
            " [6 3]]\n"
          ]
        }
      ]
    },
    {
      "cell_type": "code",
      "source": [
        "gold_uncovered =[]\n",
        "for loc in locs:\n",
        "    gold_uncovered.append(gold[loc[0],loc[1]])\n",
        "print(gold_uncovered)"
      ],
      "metadata": {
        "colab": {
          "base_uri": "https://localhost:8080/"
        },
        "id": "TK3HEmFZX4Jd",
        "outputId": "30a32232-1d54-4690-ac83-d51e5db5f74a"
      },
      "execution_count": 11,
      "outputs": [
        {
          "output_type": "stream",
          "name": "stdout",
          "text": [
            "[np.int64(3), np.int64(7), np.int64(3), np.int64(1), np.int64(1)]\n"
          ]
        }
      ]
    },
    {
      "cell_type": "code",
      "source": [
        "gold"
      ],
      "metadata": {
        "colab": {
          "base_uri": "https://localhost:8080/"
        },
        "id": "4YAIUdzgYjWg",
        "outputId": "9bd88662-ca62-425c-bcf6-579f6e4608f2"
      },
      "execution_count": 12,
      "outputs": [
        {
          "output_type": "execute_result",
          "data": {
            "text/plain": [
              "array([[3, 4, 1, 6, 3, 1, 4],\n",
              "       [9, 9, 1, 8, 2, 6, 4],\n",
              "       [1, 2, 7, 3, 2, 5, 6],\n",
              "       [5, 1, 9, 9, 8, 5, 3],\n",
              "       [8, 1, 8, 3, 2, 9, 3],\n",
              "       [6, 1, 9, 2, 9, 3, 7],\n",
              "       [5, 4, 3, 1, 8, 9, 1]])"
            ]
          },
          "metadata": {},
          "execution_count": 12
        }
      ]
    },
    {
      "cell_type": "code",
      "source": [
        "gold[locs[:,0],locs[:,1]]\n",
        "print(gold[locs[:,0],locs[:1]])"
      ],
      "metadata": {
        "colab": {
          "base_uri": "https://localhost:8080/"
        },
        "id": "jQkc9Y4DYnSB",
        "outputId": "c8e05090-ca5c-49a0-c44a-4d38e9fb7e40"
      },
      "execution_count": 13,
      "outputs": [
        {
          "output_type": "execute_result",
          "data": {
            "text/plain": [
              "array([3, 7, 3, 1, 1])"
            ]
          },
          "metadata": {},
          "execution_count": 13
        }
      ]
    },
    {
      "cell_type": "code",
      "source": [],
      "metadata": {
        "id": "bzoobqjfYzKP"
      },
      "execution_count": null,
      "outputs": []
    }
  ]
}