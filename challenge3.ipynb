{
  "nbformat": 4,
  "nbformat_minor": 0,
  "metadata": {
    "colab": {
      "provenance": [],
      "authorship_tag": "ABX9TyPwGIPStedo2+8AbaESVx7v",
      "include_colab_link": true
    },
    "kernelspec": {
      "name": "python3",
      "display_name": "Python 3"
    },
    "language_info": {
      "name": "python"
    }
  },
  "cells": [
    {
      "cell_type": "markdown",
      "metadata": {
        "id": "view-in-github",
        "colab_type": "text"
      },
      "source": [
        "<a href=\"https://colab.research.google.com/github/Thanveerahmedshaik/Numpy/blob/main/challenge3.ipynb\" target=\"_parent\"><img src=\"https://colab.research.google.com/assets/colab-badge.svg\" alt=\"Open In Colab\"/></a>"
      ]
    },
    {
      "cell_type": "code",
      "source": [
        "import numpy as np"
      ],
      "metadata": {
        "id": "oJptUMCXcM3Y"
      },
      "execution_count": 2,
      "outputs": []
    },
    {
      "cell_type": "markdown",
      "source": [
        "\n",
        "**You decide to invest in a series of billboards along interstate to advertise your stylish new chicken restaurant , Chic-fil-A. You buy three billboards evenly spaced starting marker 17 and ending on mile marker 28. Then you buy another three billboards evenly spaced starting on mile 32  and ending on mile 36. In order, from mile marker 17 to 36, your billboards display these ads: A,B,C,C,B,A. Determine how far each \"C\" ad is from your restaurant which is located at mile marker 30**\n",
        "\n"
      ],
      "metadata": {
        "id": "kY5NcFRhamO6"
      }
    },
    {
      "cell_type": "code",
      "execution_count": 12,
      "metadata": {
        "colab": {
          "base_uri": "https://localhost:8080/"
        },
        "id": "ANgwKzV4aiHl",
        "outputId": "af3d8c59-3836-46cb-e67d-f3045a8436a8"
      },
      "outputs": [
        {
          "output_type": "execute_result",
          "data": {
            "text/plain": [
              "array([[13. ,  7.5,  2. ],\n",
              "       [ 2. ,  4. ,  6. ]])"
            ]
          },
          "metadata": {},
          "execution_count": 12
        }
      ],
      "source": [
        "billboards = np.abs(np.linspace(start = [17,32],stop = [28,36], num= 3, axis=1)-30)\n",
        "billboards"
      ]
    },
    {
      "cell_type": "code",
      "source": [
        "billboards[[0,1],[2,0]]"
      ],
      "metadata": {
        "colab": {
          "base_uri": "https://localhost:8080/"
        },
        "id": "bleyEK9acKi8",
        "outputId": "35c561c9-8492-457c-b93f-95634af535c8"
      },
      "execution_count": 14,
      "outputs": [
        {
          "output_type": "execute_result",
          "data": {
            "text/plain": [
              "array([2., 2.])"
            ]
          },
          "metadata": {},
          "execution_count": 14
        }
      ]
    },
    {
      "cell_type": "code",
      "source": [
        "billboards_1 ="
      ],
      "metadata": {
        "id": "94YPn4UPcir7"
      },
      "execution_count": null,
      "outputs": []
    }
  ]
}